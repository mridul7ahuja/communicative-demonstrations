{
 "cells": [
  {
   "cell_type": "code",
   "execution_count": 1,
   "metadata": {},
   "outputs": [],
   "source": [
    "import itertools\n",
    "import numpy as np \n",
    "import matplotlib.pyplot as plt\n",
    "from matplotlib.patches import Rectangle\n",
    "import functools \n",
    "from itertools import product\n",
    "import sys\n",
    "sys.path.append('../Environments/')\n",
    "from ColoredGridWorld import SetUpInferenceSpace as setUp\n",
    "sys.path.append('../Algorithms/')\n",
    "from ActionInterpretation import ActionInterpretation"
   ]
  },
  {
   "cell_type": "code",
   "execution_count": 2,
   "metadata": {},
   "outputs": [
    {
     "name": "stdout",
     "output_type": "stream",
     "text": [
      "{'orange': 0, 'purple': 0, 'blue': 0, 'white': 0, 'yellow': 10} (5, 2) 0.6780828400659158\n",
      "{'orange': 0, 'purple': 0, 'blue': -2, 'white': 0, 'yellow': 10} (5, 2) 1.080964153133097e-06\n",
      "{'orange': 0, 'purple': -2, 'blue': 0, 'white': 0, 'yellow': 10} (5, 2) 0.0036904669866335707\n",
      "{'orange': 0, 'purple': -2, 'blue': -2, 'white': 0, 'yellow': 10} (5, 2) 2.156042825379863e-06\n",
      "{'orange': -2, 'purple': 0, 'blue': 0, 'white': 0, 'yellow': 10} (5, 2) 0.0038231297086904997\n",
      "{'orange': -2, 'purple': 0, 'blue': -2, 'white': 0, 'yellow': 10} (5, 2) 3.670095310431231e-07\n",
      "{'orange': -2, 'purple': -2, 'blue': 0, 'white': 0, 'yellow': 10} (5, 2) 0.0017081457236816369\n",
      "{'orange': -2, 'purple': -2, 'blue': -2, 'white': 0, 'yellow': 10} (5, 2) 0.312691813498569\n",
      "Probability of the given world1 and goal for trajectory is 0.6780828400659158\n",
      "Probability of the given world2 and goal for trajectory is 0.312691813498569\n"
     ]
    }
   ],
   "source": [
    "def main():\n",
    "    dimensions = (5,6)\n",
    "    goals = [(5,2)]\n",
    "    actions = [(-1,0),(0,1),(0,-1),(1,0)]\n",
    "    goalNameDictionary = {(5,2):'goal'}\n",
    "    stateSpace = {(0,0): 'white',(0,1): 'white',(0,2): 'white',(0,3): 'white',(0,4): 'white', (1,0): 'blue',(1,1): 'orange', (1,2):'orange',(1,3):'orange',(1,4):'orange', (2,0): 'blue',(2,1):'purple', (2,2):'purple', (2,3):'purple', (2,4):'orange', (3,0): 'blue',(3,1):'purple',(3,2): 'blue',(3,3):'purple',(3,4):'orange', (4,0): 'blue', (4,1): 'blue', (4,2): 'blue',(4,3):'purple', (4,4):'orange', (5,0):'white',(5,1):'white', (5,2):'yellow', (5,3):'white', (5,4):'white'}\n",
    "    convergenceTolerance = 10e-7\n",
    "    gamma = 0.94\n",
    "    alpha = 20\n",
    "    eps = 0.01\n",
    "    hyperparameters = (convergenceTolerance, gamma, alpha, eps)\n",
    "    variableColours = ['orange', 'purple', 'blue']\n",
    "    variableReward = [0, -2]\n",
    "    constantRewardDict = {'white': 0, 'yellow': 10}\n",
    "    \n",
    "    \n",
    "    utilitySpace = setUp.buildUtilitySpace(variableColours, variableReward, constantRewardDict)\n",
    "    transitionSpace = [True]\n",
    "    worlds = setUp.buildWorldSpace(utilitySpace, transitionSpace)\n",
    "    envSpace = [(world, goal) for world, goal in product(worlds, goals)]\n",
    "    envMDPsAndPolicies = setUp.buildEnvPolicySpace(dimensions, stateSpace, actions, envSpace, hyperparameters)\n",
    "    priors = {(env): (1/len(envSpace)) for env in envSpace}\n",
    "    \n",
    "    \n",
    "    inference = ActionInterpretation(envMDPsAndPolicies)  \n",
    "    trajectory = [(0,2), (1,0), (1,2), (1,0), (2,2), (1,0), (3,2), (1,0), (4,2), (1,0), (5,2)]\n",
    "    trajectory2 = [(0,2), (0,-1), (0,1), (0,-1), (0,0), (1,0), (1,0), (1,0), (2,0), (0,1), (2,1), (0,1), (2,2),(1,0), (3,2), (1,0), (4,2), (1,0), (5,2)]\n",
    "    testWorld2 = setUp.HashableWorld({'white': 0, 'orange': -2, 'purple': -2, 'blue':-2, 'yellow': 10} ,True)\n",
    "    testWorld = setUp.HashableWorld({'white': 0, 'orange': 0, 'purple': 0, 'blue':0, 'yellow': 10} ,True)\n",
    "    Probab = inference(trajectory, priors, testWorld, goals[0], False)\n",
    "    Probab2 = inference(trajectory, priors, testWorld2, goals[0], False)\n",
    "    beliefVector = inference(trajectory, priors)\n",
    "    for env, prob  in beliefVector.items():\n",
    "        print(env[0](), env[1], prob)\n",
    "    print(\"Probability of the given world1 and goal for trajectory is \" + str(Probab))\n",
    "    print(\"Probability of the given world2 and goal for trajectory is \" + str(Probab2))\n",
    "    \n",
    "    \n",
    "if __name__ == \"__main__\":\n",
    "    main()"
   ]
  }
 ],
 "metadata": {
  "kernelspec": {
   "display_name": "Python 3",
   "language": "python",
   "name": "python3"
  },
  "language_info": {
   "codemirror_mode": {
    "name": "ipython",
    "version": 3
   },
   "file_extension": ".py",
   "mimetype": "text/x-python",
   "name": "python",
   "nbconvert_exporter": "python",
   "pygments_lexer": "ipython3",
   "version": "3.7.6"
  }
 },
 "nbformat": 4,
 "nbformat_minor": 4
}
